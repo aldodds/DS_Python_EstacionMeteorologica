{
 "cells": [
  {
   "cell_type": "code",
   "execution_count": 1,
   "metadata": {},
   "outputs": [],
   "source": [
    "#Importar librerias\n",
    "\n",
    "import pandas as pd\n",
    "import matplotlib.pyplot as plt"
   ]
  },
  {
   "cell_type": "markdown",
   "metadata": {},
   "source": [
    "# Análisis de estación meteorológica"
   ]
  },
  {
   "cell_type": "markdown",
   "metadata": {},
   "source": [
    "## Importar archivo csv y conocer el tipo de dato"
   ]
  },
  {
   "cell_type": "markdown",
   "metadata": {},
   "source": [
    "El archivo de datos se delimita con punto y coma, pero por defecto,  pd.read_csv() usa una coma (,) como delimitador."
   ]
  },
  {
   "cell_type": "code",
   "execution_count": 2,
   "metadata": {},
   "outputs": [
    {
     "name": "stdout",
     "output_type": "stream",
     "text": [
      "<class 'pandas.core.frame.DataFrame'>\n"
     ]
    }
   ],
   "source": [
    "estacion_meteorologica = pd.read_csv('datos_ ema_FPUNA.csv', sep=';')\n",
    "print(type(estacion_meteorologica))"
   ]
  },
  {
   "cell_type": "markdown",
   "metadata": {},
   "source": [
    "## Nombre de las columnas, cantidad de filas y columnas, y tipo de dato de las columnas"
   ]
  },
  {
   "cell_type": "code",
   "execution_count": 3,
   "metadata": {},
   "outputs": [
    {
     "name": "stdout",
     "output_type": "stream",
     "text": [
      "Nombre de las columnas: \n",
      " Index(['Date / Time', 'veloc vto (m/s)', 'Direcc Vto (grados)',\n",
      "       'Presion Atm (hPa)', 'Radic Global (w/m2)', 'humedad relativa',\n",
      "       'Preciptacion (mm)', 'Temp del Aire °C', 'Veloc de Vto Max (m/s)'],\n",
      "      dtype='object')\n",
      "Numero de filas:  48084 \n",
      "Numero de columnas:  9\n",
      "Tipo de dato de las columnas:\n",
      "Date / Time                object\n",
      "veloc vto (m/s)           float64\n",
      "Direcc Vto (grados)       float64\n",
      "Presion Atm (hPa)         float64\n",
      "Radic Global (w/m2)        object\n",
      "humedad relativa          float64\n",
      "Preciptacion (mm)         float64\n",
      "Temp del Aire °C          float64\n",
      "Veloc de Vto Max (m/s)    float64\n",
      "dtype: object\n"
     ]
    }
   ],
   "source": [
    "estacion_meteorologica_nombres_columnas = estacion_meteorologica.columns\n",
    "print(\"Nombre de las columnas: \\n\", estacion_meteorologica_nombres_columnas)\n",
    "\n",
    "numero_filas, numero_columnas = estacion_meteorologica.shape\n",
    "print(\"Numero de filas: \", numero_filas, \"\\nNumero de columnas: \", numero_columnas)\n",
    "\n",
    "print(\"Tipo de dato de las columnas:\\n\", estacion_meteorologica.dtypes, sep=\"\")"
   ]
  },
  {
   "cell_type": "markdown",
   "metadata": {},
   "source": [
    "La columna `Dat / Time` y `Radic Global (w/m2)` son de tipo objeto, por lo que se transformarán"
   ]
  },
  {
   "cell_type": "code",
   "execution_count": 4,
   "metadata": {},
   "outputs": [
    {
     "name": "stdout",
     "output_type": "stream",
     "text": [
      "Date / Time               datetime64[ns]\n",
      "veloc vto (m/s)                  float64\n",
      "Direcc Vto (grados)              float64\n",
      "Presion Atm (hPa)                float64\n",
      "Radic Global (w/m2)              float64\n",
      "humedad relativa                 float64\n",
      "Preciptacion (mm)                float64\n",
      "Temp del Aire °C                 float64\n",
      "Veloc de Vto Max (m/s)           float64\n",
      "dtype: object\n"
     ]
    }
   ],
   "source": [
    "# Convertir 'Date / Time' a tipo datetime, nuestro dato es DD/MM/YYYY HH:MM\n",
    "estacion_meteorologica['Date / Time'] = pd.to_datetime(\n",
    "    estacion_meteorologica['Date / Time'], \n",
    "    dayfirst=True, \n",
    "    errors='coerce'\n",
    ")\n",
    "\n",
    "# Convertir 'Radic Global (w/m2)' a tipo float, manejando valores no convertibles\n",
    "estacion_meteorologica['Radic Global (w/m2)'] = pd.to_numeric(\n",
    "    estacion_meteorologica['Radic Global (w/m2)'], \n",
    "    errors='coerce'\n",
    ")\n",
    "\n",
    "# Verificar los cambios\n",
    "print(estacion_meteorologica.dtypes)\n"
   ]
  },
  {
   "cell_type": "markdown",
   "metadata": {},
   "source": [
    "## Estadística descriptiva del conjunto de datos"
   ]
  },
  {
   "cell_type": "code",
   "execution_count": 5,
   "metadata": {},
   "outputs": [
    {
     "data": {
      "text/html": [
       "<div>\n",
       "<style scoped>\n",
       "    .dataframe tbody tr th:only-of-type {\n",
       "        vertical-align: middle;\n",
       "    }\n",
       "\n",
       "    .dataframe tbody tr th {\n",
       "        vertical-align: top;\n",
       "    }\n",
       "\n",
       "    .dataframe thead th {\n",
       "        text-align: right;\n",
       "    }\n",
       "</style>\n",
       "<table border=\"1\" class=\"dataframe\">\n",
       "  <thead>\n",
       "    <tr style=\"text-align: right;\">\n",
       "      <th></th>\n",
       "      <th>Date / Time</th>\n",
       "      <th>veloc vto (m/s)</th>\n",
       "      <th>Direcc Vto (grados)</th>\n",
       "      <th>Presion Atm (hPa)</th>\n",
       "      <th>Radic Global (w/m2)</th>\n",
       "      <th>humedad relativa</th>\n",
       "      <th>Preciptacion (mm)</th>\n",
       "      <th>Temp del Aire °C</th>\n",
       "      <th>Veloc de Vto Max (m/s)</th>\n",
       "    </tr>\n",
       "  </thead>\n",
       "  <tbody>\n",
       "    <tr>\n",
       "      <th>count</th>\n",
       "      <td>47752</td>\n",
       "      <td>47878.000000</td>\n",
       "      <td>47576.000000</td>\n",
       "      <td>47340.000000</td>\n",
       "      <td>47569.000000</td>\n",
       "      <td>47239.000000</td>\n",
       "      <td>47842.000000</td>\n",
       "      <td>47620.000000</td>\n",
       "      <td>46987.000000</td>\n",
       "    </tr>\n",
       "    <tr>\n",
       "      <th>mean</th>\n",
       "      <td>2022-05-17 13:28:31.291673856</td>\n",
       "      <td>1.419218</td>\n",
       "      <td>150.294855</td>\n",
       "      <td>998.730042</td>\n",
       "      <td>199.510564</td>\n",
       "      <td>71.307818</td>\n",
       "      <td>0.026759</td>\n",
       "      <td>22.924353</td>\n",
       "      <td>3.346700</td>\n",
       "    </tr>\n",
       "    <tr>\n",
       "      <th>min</th>\n",
       "      <td>2021-12-01 00:10:00</td>\n",
       "      <td>0.100000</td>\n",
       "      <td>0.000000</td>\n",
       "      <td>0.000000</td>\n",
       "      <td>-1.700000</td>\n",
       "      <td>17.000000</td>\n",
       "      <td>0.000000</td>\n",
       "      <td>2.100000</td>\n",
       "      <td>0.100000</td>\n",
       "    </tr>\n",
       "    <tr>\n",
       "      <th>25%</th>\n",
       "      <td>2022-02-22 18:27:30</td>\n",
       "      <td>0.700000</td>\n",
       "      <td>70.000000</td>\n",
       "      <td>995.100000</td>\n",
       "      <td>0.700000</td>\n",
       "      <td>54.000000</td>\n",
       "      <td>0.000000</td>\n",
       "      <td>17.600000</td>\n",
       "      <td>1.600000</td>\n",
       "    </tr>\n",
       "    <tr>\n",
       "      <th>50%</th>\n",
       "      <td>2022-05-17 16:55:00</td>\n",
       "      <td>1.300000</td>\n",
       "      <td>157.000000</td>\n",
       "      <td>998.600000</td>\n",
       "      <td>3.500000</td>\n",
       "      <td>73.000000</td>\n",
       "      <td>0.000000</td>\n",
       "      <td>22.600000</td>\n",
       "      <td>3.100000</td>\n",
       "    </tr>\n",
       "    <tr>\n",
       "      <th>75%</th>\n",
       "      <td>2022-08-09 09:12:30</td>\n",
       "      <td>2.000000</td>\n",
       "      <td>209.000000</td>\n",
       "      <td>1002.100000</td>\n",
       "      <td>344.100000</td>\n",
       "      <td>91.000000</td>\n",
       "      <td>0.000000</td>\n",
       "      <td>28.000000</td>\n",
       "      <td>4.700000</td>\n",
       "    </tr>\n",
       "    <tr>\n",
       "      <th>max</th>\n",
       "      <td>2022-10-31 21:40:00</td>\n",
       "      <td>7.700000</td>\n",
       "      <td>357.000000</td>\n",
       "      <td>1018.800000</td>\n",
       "      <td>1197.000000</td>\n",
       "      <td>100.000000</td>\n",
       "      <td>25.600000</td>\n",
       "      <td>43.300000</td>\n",
       "      <td>19.600000</td>\n",
       "    </tr>\n",
       "    <tr>\n",
       "      <th>std</th>\n",
       "      <td>NaN</td>\n",
       "      <td>0.970870</td>\n",
       "      <td>84.994602</td>\n",
       "      <td>6.940906</td>\n",
       "      <td>298.853920</td>\n",
       "      <td>21.141501</td>\n",
       "      <td>0.388993</td>\n",
       "      <td>7.531531</td>\n",
       "      <td>2.235738</td>\n",
       "    </tr>\n",
       "  </tbody>\n",
       "</table>\n",
       "</div>"
      ],
      "text/plain": [
       "                         Date / Time  veloc vto (m/s)  Direcc Vto (grados)  \\\n",
       "count                          47752     47878.000000         47576.000000   \n",
       "mean   2022-05-17 13:28:31.291673856         1.419218           150.294855   \n",
       "min              2021-12-01 00:10:00         0.100000             0.000000   \n",
       "25%              2022-02-22 18:27:30         0.700000            70.000000   \n",
       "50%              2022-05-17 16:55:00         1.300000           157.000000   \n",
       "75%              2022-08-09 09:12:30         2.000000           209.000000   \n",
       "max              2022-10-31 21:40:00         7.700000           357.000000   \n",
       "std                              NaN         0.970870            84.994602   \n",
       "\n",
       "       Presion Atm (hPa)  Radic Global (w/m2)  humedad relativa  \\\n",
       "count       47340.000000         47569.000000      47239.000000   \n",
       "mean          998.730042           199.510564         71.307818   \n",
       "min             0.000000            -1.700000         17.000000   \n",
       "25%           995.100000             0.700000         54.000000   \n",
       "50%           998.600000             3.500000         73.000000   \n",
       "75%          1002.100000           344.100000         91.000000   \n",
       "max          1018.800000          1197.000000        100.000000   \n",
       "std             6.940906           298.853920         21.141501   \n",
       "\n",
       "       Preciptacion (mm)  Temp del Aire °C  Veloc de Vto Max (m/s)  \n",
       "count       47842.000000      47620.000000            46987.000000  \n",
       "mean            0.026759         22.924353                3.346700  \n",
       "min             0.000000          2.100000                0.100000  \n",
       "25%             0.000000         17.600000                1.600000  \n",
       "50%             0.000000         22.600000                3.100000  \n",
       "75%             0.000000         28.000000                4.700000  \n",
       "max            25.600000         43.300000               19.600000  \n",
       "std             0.388993          7.531531                2.235738  "
      ]
     },
     "execution_count": 5,
     "metadata": {},
     "output_type": "execute_result"
    }
   ],
   "source": [
    "estacion_meteorologica.describe()"
   ]
  },
  {
   "cell_type": "markdown",
   "metadata": {},
   "source": [
    "### Acceder a una columna (serie) de interés"
   ]
  },
  {
   "cell_type": "code",
   "execution_count": 6,
   "metadata": {},
   "outputs": [
    {
     "name": "stdout",
     "output_type": "stream",
     "text": [
      "0        21.5\n",
      "1        21.5\n",
      "2        21.9\n",
      "3        21.9\n",
      "4        21.6\n",
      "         ... \n",
      "48079    16.2\n",
      "48080    15.4\n",
      "48081    14.9\n",
      "48082    14.9\n",
      "48083    14.7\n",
      "Name: Temp del Aire °C, Length: 48084, dtype: float64\n",
      "Fila 4:  21.6\n"
     ]
    }
   ],
   "source": [
    "temperatura_estacion_meteorologica = estacion_meteorologica['Temp del Aire °C']\n",
    "print(temperatura_estacion_meteorologica)\n",
    "\n",
    "#Conocer una fila específica\n",
    "print('Fila 4: ', temperatura_estacion_meteorologica[4])\n"
   ]
  },
  {
   "cell_type": "markdown",
   "metadata": {},
   "source": [
    "Conocer la media de una columna de interes"
   ]
  },
  {
   "cell_type": "code",
   "execution_count": 7,
   "metadata": {},
   "outputs": [
    {
     "name": "stdout",
     "output_type": "stream",
     "text": [
      "La media es:  22.924353212935745\n"
     ]
    }
   ],
   "source": [
    "media_temperatura_estacion_meteorologica = temperatura_estacion_meteorologica.mean()\n",
    "print(\"La media es: \", media_temperatura_estacion_meteorologica)"
   ]
  },
  {
   "cell_type": "markdown",
   "metadata": {},
   "source": [
    "Contar la cantidad de datos que tiene la columna de interes"
   ]
  },
  {
   "cell_type": "code",
   "execution_count": null,
   "metadata": {},
   "outputs": [
    {
     "name": "stdout",
     "output_type": "stream",
     "text": [
      "47620\n"
     ]
    }
   ],
   "source": [
    "cantidad_datos_temperatura_estacion_meteorologica = temperatura_estacion_meteorologica.count()\n",
    "#print(cantidad_datos_temperatura_estacion_meteorologica)"
   ]
  },
  {
   "cell_type": "markdown",
   "metadata": {},
   "source": [
    "### Conocer los primeros cinco valores del conjunto de datos"
   ]
  },
  {
   "cell_type": "code",
   "execution_count": 9,
   "metadata": {},
   "outputs": [
    {
     "data": {
      "text/html": [
       "<div>\n",
       "<style scoped>\n",
       "    .dataframe tbody tr th:only-of-type {\n",
       "        vertical-align: middle;\n",
       "    }\n",
       "\n",
       "    .dataframe tbody tr th {\n",
       "        vertical-align: top;\n",
       "    }\n",
       "\n",
       "    .dataframe thead th {\n",
       "        text-align: right;\n",
       "    }\n",
       "</style>\n",
       "<table border=\"1\" class=\"dataframe\">\n",
       "  <thead>\n",
       "    <tr style=\"text-align: right;\">\n",
       "      <th></th>\n",
       "      <th>Date / Time</th>\n",
       "      <th>veloc vto (m/s)</th>\n",
       "      <th>Direcc Vto (grados)</th>\n",
       "      <th>Presion Atm (hPa)</th>\n",
       "      <th>Radic Global (w/m2)</th>\n",
       "      <th>humedad relativa</th>\n",
       "      <th>Preciptacion (mm)</th>\n",
       "      <th>Temp del Aire °C</th>\n",
       "      <th>Veloc de Vto Max (m/s)</th>\n",
       "    </tr>\n",
       "  </thead>\n",
       "  <tbody>\n",
       "    <tr>\n",
       "      <th>0</th>\n",
       "      <td>2021-12-01 00:10:00</td>\n",
       "      <td>0.6</td>\n",
       "      <td>197.0</td>\n",
       "      <td>998.3</td>\n",
       "      <td>1.9</td>\n",
       "      <td>68.0</td>\n",
       "      <td>0.0</td>\n",
       "      <td>21.5</td>\n",
       "      <td>1.6</td>\n",
       "    </tr>\n",
       "    <tr>\n",
       "      <th>1</th>\n",
       "      <td>2021-12-01 00:20:00</td>\n",
       "      <td>0.4</td>\n",
       "      <td>192.0</td>\n",
       "      <td>998.3</td>\n",
       "      <td>1.9</td>\n",
       "      <td>68.0</td>\n",
       "      <td>0.0</td>\n",
       "      <td>21.5</td>\n",
       "      <td>2.4</td>\n",
       "    </tr>\n",
       "    <tr>\n",
       "      <th>2</th>\n",
       "      <td>2021-12-01 00:30:00</td>\n",
       "      <td>0.5</td>\n",
       "      <td>182.0</td>\n",
       "      <td>998.4</td>\n",
       "      <td>1.9</td>\n",
       "      <td>64.0</td>\n",
       "      <td>0.0</td>\n",
       "      <td>21.9</td>\n",
       "      <td>1.7</td>\n",
       "    </tr>\n",
       "    <tr>\n",
       "      <th>3</th>\n",
       "      <td>2021-12-01 00:40:00</td>\n",
       "      <td>0.7</td>\n",
       "      <td>175.0</td>\n",
       "      <td>998.6</td>\n",
       "      <td>1.0</td>\n",
       "      <td>65.0</td>\n",
       "      <td>0.0</td>\n",
       "      <td>21.9</td>\n",
       "      <td>2.1</td>\n",
       "    </tr>\n",
       "    <tr>\n",
       "      <th>4</th>\n",
       "      <td>2021-12-01 00:50:00</td>\n",
       "      <td>0.6</td>\n",
       "      <td>183.0</td>\n",
       "      <td>998.6</td>\n",
       "      <td>0.8</td>\n",
       "      <td>67.0</td>\n",
       "      <td>0.0</td>\n",
       "      <td>21.6</td>\n",
       "      <td>1.9</td>\n",
       "    </tr>\n",
       "  </tbody>\n",
       "</table>\n",
       "</div>"
      ],
      "text/plain": [
       "          Date / Time  veloc vto (m/s)  Direcc Vto (grados)  \\\n",
       "0 2021-12-01 00:10:00              0.6                197.0   \n",
       "1 2021-12-01 00:20:00              0.4                192.0   \n",
       "2 2021-12-01 00:30:00              0.5                182.0   \n",
       "3 2021-12-01 00:40:00              0.7                175.0   \n",
       "4 2021-12-01 00:50:00              0.6                183.0   \n",
       "\n",
       "   Presion Atm (hPa)  Radic Global (w/m2)  humedad relativa  \\\n",
       "0              998.3                  1.9              68.0   \n",
       "1              998.3                  1.9              68.0   \n",
       "2              998.4                  1.9              64.0   \n",
       "3              998.6                  1.0              65.0   \n",
       "4              998.6                  0.8              67.0   \n",
       "\n",
       "   Preciptacion (mm)  Temp del Aire °C  Veloc de Vto Max (m/s)  \n",
       "0                0.0              21.5                     1.6  \n",
       "1                0.0              21.5                     2.4  \n",
       "2                0.0              21.9                     1.7  \n",
       "3                0.0              21.9                     2.1  \n",
       "4                0.0              21.6                     1.9  "
      ]
     },
     "execution_count": 9,
     "metadata": {},
     "output_type": "execute_result"
    }
   ],
   "source": [
    "estacion_meteorologica.head()"
   ]
  },
  {
   "cell_type": "markdown",
   "metadata": {},
   "source": [
    "## Seleccionar datos específicos de nuestro conjunto de datos"
   ]
  },
  {
   "cell_type": "code",
   "execution_count": 10,
   "metadata": {},
   "outputs": [
    {
     "data": {
      "text/plain": [
       "Date / Time               2021-12-01 00:10:00\n",
       "veloc vto (m/s)                           0.6\n",
       "Direcc Vto (grados)                     197.0\n",
       "Presion Atm (hPa)                       998.3\n",
       "Radic Global (w/m2)                       1.9\n",
       "humedad relativa                         68.0\n",
       "Preciptacion (mm)                         0.0\n",
       "Temp del Aire °C                         21.5\n",
       "Veloc de Vto Max (m/s)                    1.6\n",
       "Name: 0, dtype: object"
      ]
     },
     "execution_count": 10,
     "metadata": {},
     "output_type": "execute_result"
    }
   ],
   "source": [
    "#Primera fila\n",
    "estacion_meteorologica.iloc[0]"
   ]
  },
  {
   "cell_type": "code",
   "execution_count": 11,
   "metadata": {},
   "outputs": [
    {
     "data": {
      "text/plain": [
       "Timestamp('2021-12-01 00:10:00')"
      ]
     },
     "execution_count": 11,
     "metadata": {},
     "output_type": "execute_result"
    }
   ],
   "source": [
    "#Primera fila y primera columna\n",
    "estacion_meteorologica.iloc[0,0]"
   ]
  },
  {
   "cell_type": "code",
   "execution_count": 12,
   "metadata": {},
   "outputs": [
    {
     "data": {
      "text/html": [
       "<div>\n",
       "<style scoped>\n",
       "    .dataframe tbody tr th:only-of-type {\n",
       "        vertical-align: middle;\n",
       "    }\n",
       "\n",
       "    .dataframe tbody tr th {\n",
       "        vertical-align: top;\n",
       "    }\n",
       "\n",
       "    .dataframe thead th {\n",
       "        text-align: right;\n",
       "    }\n",
       "</style>\n",
       "<table border=\"1\" class=\"dataframe\">\n",
       "  <thead>\n",
       "    <tr style=\"text-align: right;\">\n",
       "      <th></th>\n",
       "      <th>Date / Time</th>\n",
       "      <th>veloc vto (m/s)</th>\n",
       "      <th>Direcc Vto (grados)</th>\n",
       "      <th>Presion Atm (hPa)</th>\n",
       "      <th>Radic Global (w/m2)</th>\n",
       "      <th>humedad relativa</th>\n",
       "      <th>Preciptacion (mm)</th>\n",
       "      <th>Temp del Aire °C</th>\n",
       "      <th>Veloc de Vto Max (m/s)</th>\n",
       "    </tr>\n",
       "  </thead>\n",
       "  <tbody>\n",
       "    <tr>\n",
       "      <th>1</th>\n",
       "      <td>2021-12-01 00:20:00</td>\n",
       "      <td>0.4</td>\n",
       "      <td>192.0</td>\n",
       "      <td>998.3</td>\n",
       "      <td>1.9</td>\n",
       "      <td>68.0</td>\n",
       "      <td>0.0</td>\n",
       "      <td>21.5</td>\n",
       "      <td>2.4</td>\n",
       "    </tr>\n",
       "    <tr>\n",
       "      <th>2</th>\n",
       "      <td>2021-12-01 00:30:00</td>\n",
       "      <td>0.5</td>\n",
       "      <td>182.0</td>\n",
       "      <td>998.4</td>\n",
       "      <td>1.9</td>\n",
       "      <td>64.0</td>\n",
       "      <td>0.0</td>\n",
       "      <td>21.9</td>\n",
       "      <td>1.7</td>\n",
       "    </tr>\n",
       "  </tbody>\n",
       "</table>\n",
       "</div>"
      ],
      "text/plain": [
       "          Date / Time  veloc vto (m/s)  Direcc Vto (grados)  \\\n",
       "1 2021-12-01 00:20:00              0.4                192.0   \n",
       "2 2021-12-01 00:30:00              0.5                182.0   \n",
       "\n",
       "   Presion Atm (hPa)  Radic Global (w/m2)  humedad relativa  \\\n",
       "1              998.3                  1.9              68.0   \n",
       "2              998.4                  1.9              64.0   \n",
       "\n",
       "   Preciptacion (mm)  Temp del Aire °C  Veloc de Vto Max (m/s)  \n",
       "1                0.0              21.5                     2.4  \n",
       "2                0.0              21.9                     1.7  "
      ]
     },
     "execution_count": 12,
     "metadata": {},
     "output_type": "execute_result"
    }
   ],
   "source": [
    "#Rando de fila: fila 1 a 2\n",
    "estacion_meteorologica.iloc[1:3]"
   ]
  },
  {
   "cell_type": "code",
   "execution_count": 13,
   "metadata": {},
   "outputs": [
    {
     "data": {
      "text/html": [
       "<div>\n",
       "<style scoped>\n",
       "    .dataframe tbody tr th:only-of-type {\n",
       "        vertical-align: middle;\n",
       "    }\n",
       "\n",
       "    .dataframe tbody tr th {\n",
       "        vertical-align: top;\n",
       "    }\n",
       "\n",
       "    .dataframe thead th {\n",
       "        text-align: right;\n",
       "    }\n",
       "</style>\n",
       "<table border=\"1\" class=\"dataframe\">\n",
       "  <thead>\n",
       "    <tr style=\"text-align: right;\">\n",
       "      <th></th>\n",
       "      <th>Date / Time</th>\n",
       "      <th>veloc vto (m/s)</th>\n",
       "    </tr>\n",
       "  </thead>\n",
       "  <tbody>\n",
       "    <tr>\n",
       "      <th>1</th>\n",
       "      <td>2021-12-01 00:20:00</td>\n",
       "      <td>0.4</td>\n",
       "    </tr>\n",
       "    <tr>\n",
       "      <th>2</th>\n",
       "      <td>2021-12-01 00:30:00</td>\n",
       "      <td>0.5</td>\n",
       "    </tr>\n",
       "  </tbody>\n",
       "</table>\n",
       "</div>"
      ],
      "text/plain": [
       "          Date / Time  veloc vto (m/s)\n",
       "1 2021-12-01 00:20:00              0.4\n",
       "2 2021-12-01 00:30:00              0.5"
      ]
     },
     "execution_count": 13,
     "metadata": {},
     "output_type": "execute_result"
    }
   ],
   "source": [
    "#Rango de fila y columna: fila de 1 a 2 y columna de 0 a 1\n",
    "estacion_meteorologica.iloc[1:3, 0:2]"
   ]
  },
  {
   "cell_type": "markdown",
   "metadata": {},
   "source": [
    "Seleccionar una fila específica por su índice"
   ]
  },
  {
   "cell_type": "code",
   "execution_count": 41,
   "metadata": {},
   "outputs": [
    {
     "data": {
      "text/plain": [
       "Date / Time               2021-12-01 00:10:00\n",
       "veloc vto (m/s)                           0.6\n",
       "Direcc Vto (grados)                     197.0\n",
       "Presion Atm (hPa)                       998.3\n",
       "Radic Global (w/m2)                       1.9\n",
       "humedad relativa                         68.0\n",
       "Preciptacion (mm)                         0.0\n",
       "Temp del Aire °C                         21.5\n",
       "Veloc de Vto Max (m/s)                    1.6\n",
       "Name: 0, dtype: object"
      ]
     },
     "execution_count": 41,
     "metadata": {},
     "output_type": "execute_result"
    }
   ],
   "source": [
    "#Con la fila cero\n",
    "fila_index_0 = estacion_meteorologica.loc[0]\n",
    "fila_index_0"
   ]
  },
  {
   "cell_type": "code",
   "execution_count": 40,
   "metadata": {},
   "outputs": [
    {
     "data": {
      "text/plain": [
       "0         998.3\n",
       "1         998.3\n",
       "2         998.4\n",
       "3         998.6\n",
       "4         998.6\n",
       "          ...  \n",
       "48079    1008.2\n",
       "48080    1008.2\n",
       "48081    1008.3\n",
       "48082    1008.2\n",
       "48083    1008.2\n",
       "Name: Presion Atm (hPa), Length: 48084, dtype: float64"
      ]
     },
     "execution_count": 40,
     "metadata": {},
     "output_type": "execute_result"
    }
   ],
   "source": [
    "#Selecciona una columna por su nombre desde cero\n",
    "presion_atm_estacion_meteorologica = estacion_meteorologica.loc[0:, 'Presion Atm (hPa)']\n",
    "presion_atm_estacion_meteorologica"
   ]
  },
  {
   "cell_type": "code",
   "execution_count": 39,
   "metadata": {},
   "outputs": [
    {
     "data": {
      "text/html": [
       "<div>\n",
       "<style scoped>\n",
       "    .dataframe tbody tr th:only-of-type {\n",
       "        vertical-align: middle;\n",
       "    }\n",
       "\n",
       "    .dataframe tbody tr th {\n",
       "        vertical-align: top;\n",
       "    }\n",
       "\n",
       "    .dataframe thead th {\n",
       "        text-align: right;\n",
       "    }\n",
       "</style>\n",
       "<table border=\"1\" class=\"dataframe\">\n",
       "  <thead>\n",
       "    <tr style=\"text-align: right;\">\n",
       "      <th></th>\n",
       "      <th>Presion Atm (hPa)</th>\n",
       "      <th>humedad relativa</th>\n",
       "    </tr>\n",
       "  </thead>\n",
       "  <tbody>\n",
       "    <tr>\n",
       "      <th>0</th>\n",
       "      <td>998.3</td>\n",
       "      <td>68.0</td>\n",
       "    </tr>\n",
       "    <tr>\n",
       "      <th>1</th>\n",
       "      <td>998.3</td>\n",
       "      <td>68.0</td>\n",
       "    </tr>\n",
       "    <tr>\n",
       "      <th>2</th>\n",
       "      <td>998.4</td>\n",
       "      <td>64.0</td>\n",
       "    </tr>\n",
       "    <tr>\n",
       "      <th>3</th>\n",
       "      <td>998.6</td>\n",
       "      <td>65.0</td>\n",
       "    </tr>\n",
       "    <tr>\n",
       "      <th>4</th>\n",
       "      <td>998.6</td>\n",
       "      <td>67.0</td>\n",
       "    </tr>\n",
       "    <tr>\n",
       "      <th>...</th>\n",
       "      <td>...</td>\n",
       "      <td>...</td>\n",
       "    </tr>\n",
       "    <tr>\n",
       "      <th>48079</th>\n",
       "      <td>1008.2</td>\n",
       "      <td>56.0</td>\n",
       "    </tr>\n",
       "    <tr>\n",
       "      <th>48080</th>\n",
       "      <td>1008.2</td>\n",
       "      <td>58.0</td>\n",
       "    </tr>\n",
       "    <tr>\n",
       "      <th>48081</th>\n",
       "      <td>1008.3</td>\n",
       "      <td>60.0</td>\n",
       "    </tr>\n",
       "    <tr>\n",
       "      <th>48082</th>\n",
       "      <td>1008.2</td>\n",
       "      <td>62.0</td>\n",
       "    </tr>\n",
       "    <tr>\n",
       "      <th>48083</th>\n",
       "      <td>1008.2</td>\n",
       "      <td>63.0</td>\n",
       "    </tr>\n",
       "  </tbody>\n",
       "</table>\n",
       "<p>48084 rows × 2 columns</p>\n",
       "</div>"
      ],
      "text/plain": [
       "       Presion Atm (hPa)  humedad relativa\n",
       "0                  998.3              68.0\n",
       "1                  998.3              68.0\n",
       "2                  998.4              64.0\n",
       "3                  998.6              65.0\n",
       "4                  998.6              67.0\n",
       "...                  ...               ...\n",
       "48079             1008.2              56.0\n",
       "48080             1008.2              58.0\n",
       "48081             1008.3              60.0\n",
       "48082             1008.2              62.0\n",
       "48083             1008.2              63.0\n",
       "\n",
       "[48084 rows x 2 columns]"
      ]
     },
     "execution_count": 39,
     "metadata": {},
     "output_type": "execute_result"
    }
   ],
   "source": [
    "#Selecciona dos columnas por su nombre desde cero\n",
    "presionAtm_humedadRelativa_estacion_meteorologica = estacion_meteorologica.loc[0:, ['Presion Atm (hPa)', 'humedad relativa']]\n",
    "presionAtm_humedadRelativa_estacion_meteorologica"
   ]
  },
  {
   "cell_type": "markdown",
   "metadata": {},
   "source": [
    "Conocer una tiempo (hora y fecha) en específico"
   ]
  },
  {
   "cell_type": "code",
   "execution_count": 38,
   "metadata": {},
   "outputs": [
    {
     "data": {
      "text/html": [
       "<div>\n",
       "<style scoped>\n",
       "    .dataframe tbody tr th:only-of-type {\n",
       "        vertical-align: middle;\n",
       "    }\n",
       "\n",
       "    .dataframe tbody tr th {\n",
       "        vertical-align: top;\n",
       "    }\n",
       "\n",
       "    .dataframe thead th {\n",
       "        text-align: right;\n",
       "    }\n",
       "</style>\n",
       "<table border=\"1\" class=\"dataframe\">\n",
       "  <thead>\n",
       "    <tr style=\"text-align: right;\">\n",
       "      <th></th>\n",
       "      <th>Date / Time</th>\n",
       "      <th>veloc vto (m/s)</th>\n",
       "      <th>Direcc Vto (grados)</th>\n",
       "      <th>Presion Atm (hPa)</th>\n",
       "      <th>Radic Global (w/m2)</th>\n",
       "      <th>humedad relativa</th>\n",
       "      <th>Preciptacion (mm)</th>\n",
       "      <th>Temp del Aire °C</th>\n",
       "      <th>Veloc de Vto Max (m/s)</th>\n",
       "    </tr>\n",
       "  </thead>\n",
       "  <tbody>\n",
       "    <tr>\n",
       "      <th>0</th>\n",
       "      <td>2021-12-01 00:10:00</td>\n",
       "      <td>0.6</td>\n",
       "      <td>197.0</td>\n",
       "      <td>998.3</td>\n",
       "      <td>1.9</td>\n",
       "      <td>68.0</td>\n",
       "      <td>0.0</td>\n",
       "      <td>21.5</td>\n",
       "      <td>1.6</td>\n",
       "    </tr>\n",
       "  </tbody>\n",
       "</table>\n",
       "</div>"
      ],
      "text/plain": [
       "          Date / Time  veloc vto (m/s)  Direcc Vto (grados)  \\\n",
       "0 2021-12-01 00:10:00              0.6                197.0   \n",
       "\n",
       "   Presion Atm (hPa)  Radic Global (w/m2)  humedad relativa  \\\n",
       "0              998.3                  1.9              68.0   \n",
       "\n",
       "   Preciptacion (mm)  Temp del Aire °C  Veloc de Vto Max (m/s)  \n",
       "0                0.0              21.5                     1.6  "
      ]
     },
     "execution_count": 38,
     "metadata": {},
     "output_type": "execute_result"
    }
   ],
   "source": [
    "hora_fecha = estacion_meteorologica.loc[estacion_meteorologica['Date / Time'] == \"2021-12-01 00:10:00\"]\n",
    "hora_fecha"
   ]
  },
  {
   "cell_type": "markdown",
   "metadata": {},
   "source": [
    "Selecciona dos fechas (dos filas)"
   ]
  },
  {
   "cell_type": "code",
   "execution_count": 46,
   "metadata": {},
   "outputs": [
    {
     "data": {
      "text/html": [
       "<div>\n",
       "<style scoped>\n",
       "    .dataframe tbody tr th:only-of-type {\n",
       "        vertical-align: middle;\n",
       "    }\n",
       "\n",
       "    .dataframe tbody tr th {\n",
       "        vertical-align: top;\n",
       "    }\n",
       "\n",
       "    .dataframe thead th {\n",
       "        text-align: right;\n",
       "    }\n",
       "</style>\n",
       "<table border=\"1\" class=\"dataframe\">\n",
       "  <thead>\n",
       "    <tr style=\"text-align: right;\">\n",
       "      <th></th>\n",
       "      <th>Date / Time</th>\n",
       "      <th>veloc vto (m/s)</th>\n",
       "      <th>Direcc Vto (grados)</th>\n",
       "      <th>Presion Atm (hPa)</th>\n",
       "      <th>Radic Global (w/m2)</th>\n",
       "      <th>humedad relativa</th>\n",
       "      <th>Preciptacion (mm)</th>\n",
       "      <th>Temp del Aire °C</th>\n",
       "      <th>Veloc de Vto Max (m/s)</th>\n",
       "    </tr>\n",
       "  </thead>\n",
       "  <tbody>\n",
       "    <tr>\n",
       "      <th>0</th>\n",
       "      <td>2021-12-01 00:10:00</td>\n",
       "      <td>0.6</td>\n",
       "      <td>197.0</td>\n",
       "      <td>998.3</td>\n",
       "      <td>1.9</td>\n",
       "      <td>68.0</td>\n",
       "      <td>0.0</td>\n",
       "      <td>21.5</td>\n",
       "      <td>1.6</td>\n",
       "    </tr>\n",
       "    <tr>\n",
       "      <th>1</th>\n",
       "      <td>2021-12-01 00:20:00</td>\n",
       "      <td>0.4</td>\n",
       "      <td>192.0</td>\n",
       "      <td>998.3</td>\n",
       "      <td>1.9</td>\n",
       "      <td>68.0</td>\n",
       "      <td>0.0</td>\n",
       "      <td>21.5</td>\n",
       "      <td>2.4</td>\n",
       "    </tr>\n",
       "  </tbody>\n",
       "</table>\n",
       "</div>"
      ],
      "text/plain": [
       "          Date / Time  veloc vto (m/s)  Direcc Vto (grados)  \\\n",
       "0 2021-12-01 00:10:00              0.6                197.0   \n",
       "1 2021-12-01 00:20:00              0.4                192.0   \n",
       "\n",
       "   Presion Atm (hPa)  Radic Global (w/m2)  humedad relativa  \\\n",
       "0              998.3                  1.9              68.0   \n",
       "1              998.3                  1.9              68.0   \n",
       "\n",
       "   Preciptacion (mm)  Temp del Aire °C  Veloc de Vto Max (m/s)  \n",
       "0                0.0              21.5                     1.6  \n",
       "1                0.0              21.5                     2.4  "
      ]
     },
     "execution_count": 46,
     "metadata": {},
     "output_type": "execute_result"
    }
   ],
   "source": [
    "hora_fecha_2 = estacion_meteorologica.loc[\n",
    "    (estacion_meteorologica['Date / Time'] == \"2021-12-01 00:10:00\") | \n",
    "    (estacion_meteorologica['Date / Time'] == \"2021-12-01 00:20:00\"),\n",
    "    :\n",
    "]\n",
    "hora_fecha_2\n",
    "\n"
   ]
  },
  {
   "cell_type": "code",
   "execution_count": null,
   "metadata": {},
   "outputs": [],
   "source": []
  }
 ],
 "metadata": {
  "kernelspec": {
   "display_name": "Python 3",
   "language": "python",
   "name": "python3"
  },
  "language_info": {
   "codemirror_mode": {
    "name": "ipython",
    "version": 3
   },
   "file_extension": ".py",
   "mimetype": "text/x-python",
   "name": "python",
   "nbconvert_exporter": "python",
   "pygments_lexer": "ipython3",
   "version": "3.12.6"
  }
 },
 "nbformat": 4,
 "nbformat_minor": 2
}
