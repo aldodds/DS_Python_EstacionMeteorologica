{
 "cells": [
  {
   "cell_type": "code",
   "execution_count": null,
   "metadata": {},
   "outputs": [],
   "source": [
    "#Importar librerias\n",
    "\n",
    "import pandas as pd\n",
    "import matplotlib.pyplot as plt"
   ]
  },
  {
   "cell_type": "markdown",
   "metadata": {},
   "source": [
    "Importamos el archivo y conocemos el tipo de dato.\n",
    "Nuestro archivo de datos se delimita con punto y coma, pero por defecto,  pd.read_csv()usa una coma ( ,) como delimitador."
   ]
  },
  {
   "cell_type": "code",
   "execution_count": 56,
   "metadata": {},
   "outputs": [
    {
     "name": "stdout",
     "output_type": "stream",
     "text": [
      "<class 'pandas.core.frame.DataFrame'>\n"
     ]
    }
   ],
   "source": [
    "estacion_meteorologica = pd.read_csv('datos_ ema_FPUNA.csv', sep=';')\n",
    "print(type(estacion_meteorologica))"
   ]
  },
  {
   "cell_type": "markdown",
   "metadata": {},
   "source": [
    "Conocemos el nombre de las columnas y la cantidad de filas y columnas, y el tipo de dato de las columnas"
   ]
  },
  {
   "cell_type": "code",
   "execution_count": null,
   "metadata": {},
   "outputs": [
    {
     "name": "stdout",
     "output_type": "stream",
     "text": [
      "Nombre de las columnas: \n",
      " Index(['Date / Time', 'veloc vto (m/s)', 'Direcc Vto (grados)',\n",
      "       'Presion Atm (hPa)', 'Radic Global (w/m2)', 'humedad relativa',\n",
      "       'Preciptacion (mm)', 'Temp del Aire °C', 'Veloc de Vto Max (m/s)'],\n",
      "      dtype='object')\n",
      "Numero de filas:  48084 \n",
      "Numero de columnas:  9\n",
      "Tipo de dato de las columnas:\n",
      "Date / Time                object\n",
      "veloc vto (m/s)           float64\n",
      "Direcc Vto (grados)       float64\n",
      "Presion Atm (hPa)         float64\n",
      "Radic Global (w/m2)        object\n",
      "humedad relativa          float64\n",
      "Preciptacion (mm)         float64\n",
      "Temp del Aire °C          float64\n",
      "Veloc de Vto Max (m/s)    float64\n",
      "dtype: object\n"
     ]
    }
   ],
   "source": [
    "estacion_meteorologica_nombres_columnas = estacion_meteorologica.columns\n",
    "print(\"Nombre de las columnas: \\n\", estacion_meteorologica_nombres_columnas)\n",
    "\n",
    "numero_filas, numero_columnas = estacion_meteorologica.shape\n",
    "print(\"Numero de filas: \", numero_filas, \"\\nNumero de columnas: \", numero_columnas)\n",
    "\n",
    "print(\"Tipo de dato de las columnas:\\n\", estacion_meteorologica.dtypes, sep=\"\")"
   ]
  },
  {
   "cell_type": "code",
   "execution_count": null,
   "metadata": {},
   "outputs": [],
   "source": []
  }
 ],
 "metadata": {
  "kernelspec": {
   "display_name": "Python 3",
   "language": "python",
   "name": "python3"
  },
  "language_info": {
   "codemirror_mode": {
    "name": "ipython",
    "version": 3
   },
   "file_extension": ".py",
   "mimetype": "text/x-python",
   "name": "python",
   "nbconvert_exporter": "python",
   "pygments_lexer": "ipython3",
   "version": "3.12.6"
  }
 },
 "nbformat": 4,
 "nbformat_minor": 2
}
